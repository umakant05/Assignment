{
  "nbformat": 4,
  "nbformat_minor": 0,
  "metadata": {
    "colab": {
      "provenance": []
    },
    "kernelspec": {
      "name": "python3",
      "display_name": "Python 3"
    },
    "language_info": {
      "name": "python"
    }
  },
  "cells": [
    {
      "cell_type": "code",
      "execution_count": 1,
      "metadata": {
        "colab": {
          "base_uri": "https://localhost:8080/"
        },
        "id": "QNiuWrX777T8",
        "outputId": "979ca86d-3eba-4dc2-c799-bc79ec325268"
      },
      "outputs": [
        {
          "output_type": "stream",
          "name": "stdout",
          "text": [
            "Hello world\n"
          ]
        }
      ],
      "source": [
        "print(\"Hello world\")"
      ]
    },
    {
      "cell_type": "markdown",
      "source": [
        "what is oops concept in python?  \n",
        "pytho is a dynamic"
      ],
      "metadata": {
        "id": "3XdlRe1Y8gVr"
      }
    },
    {
      "cell_type": "code",
      "source": [],
      "metadata": {
        "id": "WVowaoqk8tOb"
      },
      "execution_count": null,
      "outputs": []
    }
  ]
}